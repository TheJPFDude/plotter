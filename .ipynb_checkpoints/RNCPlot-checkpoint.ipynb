{
 "cells": [
  {
   "cell_type": "code",
   "execution_count": null,
   "metadata": {
    "collapsed": false
   },
   "outputs": [],
   "source": [
    "#!/usr/bin/python\n",
    "%matplotlib notebook\n",
    "\n",
    "import pandas as pd\n",
    "import numpy as np\n",
    "import matplotlib\n",
    "\n",
    "from matplotlib import pyplot as plt\n",
    "\n",
    "from aeri_tools.io.dmv.radiance import get_radiance_from_rnc\n",
    "from aeri_tools.processing.interferogram import get_interferogram_from_spectrum\n",
    "\n",
    "oldFileName = \"/Users/bchoi/Desktop/data/7_5_16_Data/old/150620C1.RNC\"\n",
    "newFileName = \"/Users/bchoi/Desktop/data/7_5_16_Data/new/150620C1.RNC\"\n",
    " \n",
    "oldRad = get_radiance_from_rnc(oldFileName)\n",
    "newRad = get_radiance_from_rnc(newFileName)\n",
    "\n",
    "rad = newRad - oldRad\n",
    "    \n",
    "interferogram = get_interferogram_from_spectrum(rad)\n",
    "\n",
    "interferogram.iloc[0].plot()\n",
    "\n",
    "print('done')"
   ]
  },
  {
   "cell_type": "code",
   "execution_count": null,
   "metadata": {
    "collapsed": true
   },
   "outputs": [],
   "source": []
  }
 ],
 "metadata": {
  "kernelspec": {
   "display_name": "Python 2",
   "language": "python",
   "name": "python2"
  },
  "language_info": {
   "codemirror_mode": {
    "name": "ipython",
    "version": 2
   },
   "file_extension": ".py",
   "mimetype": "text/x-python",
   "name": "python",
   "nbconvert_exporter": "python",
   "pygments_lexer": "ipython2",
   "version": "2.7.11"
  }
 },
 "nbformat": 4,
 "nbformat_minor": 0
}
